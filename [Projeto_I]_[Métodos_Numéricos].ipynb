{
  "nbformat": 4,
  "nbformat_minor": 0,
  "metadata": {
    "colab": {
      "provenance": [],
      "authorship_tag": "ABX9TyNnhYm4Uw+lfBA67fwcWf61",
      "include_colab_link": true
    },
    "kernelspec": {
      "name": "python3",
      "display_name": "Python 3"
    },
    "language_info": {
      "name": "python"
    }
  },
  "cells": [
    {
      "cell_type": "markdown",
      "metadata": {
        "id": "view-in-github",
        "colab_type": "text"
      },
      "source": [
        "<a href=\"https://colab.research.google.com/github/d4yane/numerical-methods/blob/main/%5BProjeto_I%5D_%5BM%C3%A9todos_Num%C3%A9ricos%5D.ipynb\" target=\"_parent\"><img src=\"https://colab.research.google.com/assets/colab-badge.svg\" alt=\"Open In Colab\"/></a>"
      ]
    },
    {
      "cell_type": "markdown",
      "source": [
        "<center>\n",
        "\n",
        "## 🎓 (UFPB) - Universidade Federal da Paraíba\n",
        "### **Métodos Numéricos - Atividade Prática - [Projeto I]**\n",
        "\n",
        "👩‍🏫 Professora: Ana Paula Pintado Wyse\n",
        "\n",
        "👩🏻‍🎓 Discente: Dayane Freitas Felipe Ramos"
      ],
      "metadata": {
        "id": "ls3DtgSZ0z5R"
      }
    },
    {
      "cell_type": "markdown",
      "source": [
        "\n",
        "```\n",
        "📖 Importando as Bibliotecas\n",
        "```"
      ],
      "metadata": {
        "id": "ETTikypKtEGt"
      }
    },
    {
      "cell_type": "code",
      "source": [
        "import numpy as np\n",
        "import sympy as sy\n",
        "import matplotlib.pyplot as plt"
      ],
      "metadata": {
        "id": "F4Lg3_z1s3e6"
      },
      "execution_count": null,
      "outputs": []
    },
    {
      "cell_type": "code",
      "source": [
        "def get_input(prompt, data_type):\n",
        "    while True:\n",
        "        try:\n",
        "            return data_type(input(prompt))\n",
        "        except ValueError:\n",
        "            print(\"Entrada inválida. Tente novamente.\")"
      ],
      "metadata": {
        "id": "VtcUa9WsRFmo"
      },
      "execution_count": null,
      "outputs": []
    },
    {
      "cell_type": "markdown",
      "source": [
        "\n",
        "\n",
        "```\n",
        "⇛ Método da Bisseção\n",
        "```\n",
        "\n"
      ],
      "metadata": {
        "id": "_jlnBkRSs5uj"
      }
    },
    {
      "cell_type": "markdown",
      "source": [
        " É uma técnica de busca de raízes que **trabalha diminuindo o intervalo que contém uma raiz para localizá-la de forma precisa.** Começa com um intervalo $[a, b]$ que contém uma raiz (ou seja, os valores de $f(a)$ e $f(b)$ têm sinais opostos). Em seguida, é selecionado o ponto médio $c$ do intervalo e o intervalo é atualizado para $[a, c]$ ou $[c, b]$ dependendo de onde a raiz está localizada (o subintervalo onde $f$ muda de sinal). Este processo é repetido até que a raiz seja isolada com a precisão desejada.\n"
      ],
      "metadata": {
        "id": "H6Su_2aXUzc1"
      }
    },
    {
      "cell_type": "code",
      "execution_count": null,
      "metadata": {
        "id": "wRibNORvscA-"
      },
      "outputs": [],
      "source": [
        "def bissecao(f, a, b, error, max_iterations):\n",
        "    x_vals = []\n",
        "    iterations = 0\n",
        "\n",
        "    while iterations < max_iterations:\n",
        "        x = (a + b) / 2\n",
        "        x_vals.append(x)\n",
        "\n",
        "        if f(a) * f(x) > 0:\n",
        "            a = x\n",
        "        else:\n",
        "            b = x\n",
        "\n",
        "        if iterations > 0 and abs(x_vals[-1] - x_vals[-2]) < error:\n",
        "            x_vals.append(x)  # garantir que o último valor seja adicionado\n",
        "            break\n",
        "\n",
        "        iterations += 1\n",
        "\n",
        "    return x_vals, iterations"
      ]
    },
    {
      "cell_type": "markdown",
      "source": [
        "\n",
        "\n",
        "```\n",
        "⇛ Método de Newton\n",
        "```\n",
        "\n"
      ],
      "metadata": {
        "id": "2q2ig5NGtlAx"
      }
    },
    {
      "cell_type": "markdown",
      "source": [
        "É um algoritmo iterativo para encontrar aproximações sucessivas das raízes (ou zeros) de uma função real. A ideia básica é assumir que a função pode ser aproximada por uma reta tangente no ponto atual e calcular a interseção dessa reta tangente com o eixo x para obter a próxima aproximação. Matematicamente, a iteração é expressa como:\n",
        "<center>\n",
        "$ x_{\\text{new}} = x_{\\text{old}} - \\frac{f(x_{\\text{old}})}{f'(x_{\\text{old}})} $\n",
        "<center>\n",
        "\n",
        "onde $ f' $ é a derivada da função $ f $.\n"
      ],
      "metadata": {
        "id": "OXj0jDhdVOzm"
      }
    },
    {
      "cell_type": "code",
      "source": [
        "def newton_raphson(f, f_prime, x0, error, max_iterations):\n",
        "    x_vals = [x0]\n",
        "    iterations = 0\n",
        "\n",
        "    while iterations < max_iterations:\n",
        "        x = x_vals[-1] - f(x_vals[-1]) / f_prime(x_vals[-1])\n",
        "        x_vals.append(x)\n",
        "\n",
        "        if abs(x_vals[-1] - x_vals[-2]) < error:\n",
        "            break\n",
        "\n",
        "        iterations += 1\n",
        "\n",
        "    return x_vals, iterations"
      ],
      "metadata": {
        "id": "IRJQ_HuftjVR"
      },
      "execution_count": null,
      "outputs": []
    },
    {
      "cell_type": "markdown",
      "source": [
        "\n",
        "\n",
        "```\n",
        "⇛ Método Secante\n",
        "```\n",
        "\n"
      ],
      "metadata": {
        "id": "1wma3otKtv9E"
      }
    },
    {
      "cell_type": "markdown",
      "source": [
        "É um método numérico iterativo utilizado para encontrar raízes de uma função. Ele é semelhante ao método de Newton-Raphson, mas, em vez de utilizar a derivada da função, emprega uma aproximação para esta derivada usando duas estimativas para a raiz. A iteração no método da secante é dada por:\n",
        "\n",
        "$ x_{n+1} = x_n - f(x_n) \\cdot \\frac{x_n - x_{n-1}}{f(x_n) - f(x_{n-1})} $\n",
        "\n",
        "onde os valores de $ x $ são estimativas da raiz. Este método tem a vantagem de não necessitar do cálculo da derivada da função, o que pode ser benéfico em funções onde a derivada é difícil de ser obtida."
      ],
      "metadata": {
        "id": "5O0jCk0iV6XT"
      }
    },
    {
      "cell_type": "code",
      "source": [
        "def secante(f, x0, x1, error, max_iterations):\n",
        "    x_vals = [x0, x1]\n",
        "    iterations = 1\n",
        "\n",
        "    while iterations < max_iterations and np.abs(x_vals[-1] - x_vals[-2]) >= error:\n",
        "        x_new = x_vals[-1] - f(x_vals[-1]) * (x_vals[-1] - x_vals[-2]) / (f(x_vals[-1]) - f(x_vals[-2]))\n",
        "        x_vals.append(x_new)\n",
        "        iterations += 1\n",
        "\n",
        "    return x_vals, iterations"
      ],
      "metadata": {
        "id": "jgfAthdrtuFL"
      },
      "execution_count": null,
      "outputs": []
    },
    {
      "cell_type": "markdown",
      "source": [
        "\n",
        "\n",
        "```\n",
        "Função & Plotagem\n",
        "```\n",
        "\n"
      ],
      "metadata": {
        "id": "Owxd_taQ1bQh"
      }
    },
    {
      "cell_type": "code",
      "source": [
        "def main():\n",
        "    x = sy.symbols('x')\n",
        "    f_expression = get_input(\"Digite a função em termos de x (ex: x**5 + (1/3)*cos(x) + log(10) + exp(2*x)): \", str)\n",
        "    f = sy.lambdify(x, f_expression)\n",
        "\n",
        "    error = get_input(\"Insira o erro mínimo: \", float)\n",
        "    max_iterations = get_input(\"Insira o máximo de iterações: \", int)\n",
        "\n",
        "    method = get_input(\"\\nEscolha o método:\\n1. Bisseção\\n2. Newton-Raphson\\n3. Secante\\n\", int)\n",
        "\n",
        "    if method == 1:\n",
        "        a = get_input(\"Digite o limite inferior a: \", float)\n",
        "        b = get_input(\"Digite o limite superior b: \", float)\n",
        "        x_vals, iterations = bissecao(f, a, b, error, max_iterations)\n",
        "\n",
        "    elif method == 2:\n",
        "        f_prime_expression = str(sy.diff(f_expression, x))\n",
        "        f_prime = sy.lambdify(x, f_prime_expression)\n",
        "        x0 = get_input(\"Digite o ponto inicial x0: \", float)\n",
        "        x_vals, iterations = newton_raphson(f, f_prime, x0, error, max_iterations)\n",
        "\n",
        "    elif method == 3:\n",
        "        x0 = get_input(\"Digite o ponto x0: \", float)\n",
        "        x1 = get_input(\"Digite o ponto x1: \", float)\n",
        "        x_vals, iterations = secante(f, x0, x1, error, max_iterations)\n",
        "    else:\n",
        "        print(\"Método inválido.\")\n",
        "        return\n",
        "\n",
        "    # Exibir os resultados das iterações\n",
        "    print(\"\\nResultados das iterações:\")\n",
        "    for i, x_val in enumerate(x_vals):\n",
        "        print(f\"Iteração {i}: x = {x_val}, f(x) = {f(x_val)}\")\n",
        "\n",
        "    # Gráficos\n",
        "    interval = np.linspace(min(x_vals)-1, max(x_vals)+1, 1000)\n",
        "    plt.plot(interval, [f(val) for val in interval], label=f_expression)\n",
        "    plt.scatter(x_vals, [f(val) for val in x_vals], color='red')\n",
        "    plt.title(f\"Método escolhido: {['', 'Bisseção', 'Newton-Raphson', 'Secante'][method]}\")\n",
        "    plt.xlabel(\"x\")\n",
        "    plt.ylabel(\"f(x)\")\n",
        "    plt.grid(True)\n",
        "    plt.axhline(0, color='black',linewidth=0.5)\n",
        "    plt.axvline(0, color='black',linewidth=0.5)\n",
        "    plt.legend()\n",
        "\n",
        "    # Adicionando anotações para cada ponto\n",
        "    for i, x_val in enumerate(x_vals):\n",
        "        plt.annotate(f\"{i}: ({x_val:.2f}, {f(x_val):.2f})\",\n",
        "                     (x_val, f(x_val)),\n",
        "                     textcoords=\"offset points\",\n",
        "                     xytext=(0,10),\n",
        "                     ha='center',\n",
        "                     fontsize=8,\n",
        "                     color='blue')\n",
        "\n",
        "    plt.show()\n",
        "\n",
        "if __name__ == \"__main__\":\n",
        "    main()\n"
      ],
      "metadata": {
        "colab": {
          "base_uri": "https://localhost:8080/",
          "height": 786
        },
        "id": "SW_jrptKOE0Q",
        "outputId": "80a0c7f7-5ddd-417d-a812-6c65e810cc7b"
      },
      "execution_count": null,
      "outputs": [
        {
          "output_type": "stream",
          "name": "stdout",
          "text": [
            "Digite a função em termos de x: x**5 + (1/3)*cos(x) + log(10) + exp(2*x)\n",
            "Insira o erro mínimo: 0.02\n",
            "Insira o máximo de iterações: 4\n",
            "\n",
            "Escolha o método:\n",
            "1. Bisseção\n",
            "2. Newton-Raphson\n",
            "3. Secante\n",
            "2\n",
            "Digite o ponto inicial x0: 3\n",
            "\n",
            "Resultados das iterações:\n",
            "Iteração 0: x = 3.0, f(x) = 648.4013810868623\n",
            "Iteração 1: x = 2.464931723278627, f(x) = 231.39976761200805\n",
            "Iteração 2: x = 1.9630829354926436, f(x) = 82.04098882756634\n",
            "Iteração 3: x = 1.4952694059858291, f(x) = 29.698896563463588\n",
            "Iteração 4: x = 1.034500711237754, f(x) = 11.574641348166978\n"
          ]
        },
        {
          "output_type": "display_data",
          "data": {
            "text/plain": [
              "<Figure size 640x480 with 1 Axes>"
            ],
            "image/png": "[encoded data removed]"
          },
          "metadata": {}
        }
      ]
    }
  ]
}